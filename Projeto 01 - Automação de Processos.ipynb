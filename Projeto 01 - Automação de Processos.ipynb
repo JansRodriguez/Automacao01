{
 "cells": [
  {
   "cell_type": "markdown",
   "id": "efda1220",
   "metadata": {},
   "source": [
    "##### Desafios:\n",
    "Todos os dias, o nosso sistema atualiza as vendas do dia anterior. \n",
    "O trabalho diário é enviar e-mail para a diretoria com o faturamento e a quantidade de produtos vendidos."
   ]
  },
  {
   "cell_type": "code",
   "execution_count": null,
   "id": "c90f0b76",
   "metadata": {},
   "outputs": [],
   "source": [
    "## ETAPA 0 - Importar as Bibliotecas necessários para a Automação\n",
    "import pyautogui as auto, pyperclip as pyper, time,  pandas as pd"
   ]
  },
  {
   "cell_type": "code",
   "execution_count": null,
   "metadata": {},
   "outputs": [],
   "source": [
    "## ETAPA 01 - Entrar no sistema e buscar os dados a serem utilzados\n",
    "    ## Entrar no sistema\n",
    "auto.press('win')\n",
    "auto.write('chrome')\n",
    "auto.press('enter')\n",
    "time.sleep(2)\n",
    "auto.click(x=986, y=602)\n",
    "time.sleep(3)\n",
    "pyper.copy(\"https://drive.google.com/drive/folders/1VvEVxzsUhueVubqeedL5DboM86efYq4l\")\n",
    "auto.hotkey('ctrl', 't')\n",
    "auto.hotkey('ctrl', 'v')\n",
    "auto.press('enter')\n",
    "   ## Buscar os dados a serem utilizados - Fazer download\n",
    "time.sleep(3)\n",
    "auto.click(x=1764, y=489)\n",
    "time.sleep(1)\n",
    "auto.click(x=1641, y=604)\n",
    "time.sleep(5)"
   ]
  },
  {
   "cell_type": "code",
   "execution_count": null,
   "metadata": {},
   "outputs": [],
   "source": [
    "   ## Buscar os dados a serem utilizados - Copiar caminho\n",
    "auto.click(x=421, y=1044)\n",
    "time.sleep(1)\n",
    "auto.click(x=123, y=328)\n",
    "time.sleep(1)\n",
    "auto.click(x=362, y=299, button='right')\n",
    "time.sleep(1)\n",
    "auto.click(x=622, y=555)\n",
    "copiarCaminho = pyper.paste()\n",
    "\"\"\" formatacaoCaminho = \"r\"\n",
    "caminho = formatacaoCaminho+copiarCaminho\n",
    "caminho = caminho[0:] \"\"\""
   ]
  },
  {
   "cell_type": "code",
   "execution_count": null,
   "metadata": {},
   "outputs": [],
   "source": [
    "## ETAPA 02 - Gerar análise dos dados\n",
    "dados = pd.read_excel(copiarCaminho)\n",
    "dados\n",
    "    ## Faturamento\n",
    "    ## Quantidade de Produtos vendidos\n"
   ]
  },
  {
   "cell_type": "code",
   "execution_count": null,
   "metadata": {},
   "outputs": [],
   "source": [
    "\n",
    "time.sleep(5)\n",
    "auto.position()"
   ]
  },
  {
   "cell_type": "code",
   "execution_count": null,
   "metadata": {},
   "outputs": [],
   "source": [
    "## ETAPA 03 - Enviar e-mail para a diretoria"
   ]
  }
 ],
 "metadata": {
  "kernelspec": {
   "display_name": "base",
   "language": "python",
   "name": "python3"
  },
  "language_info": {
   "codemirror_mode": {
    "name": "ipython",
    "version": 3
   },
   "file_extension": ".py",
   "mimetype": "text/x-python",
   "name": "python",
   "nbconvert_exporter": "python",
   "pygments_lexer": "ipython3",
   "version": "3.9.13"
  }
 },
 "nbformat": 4,
 "nbformat_minor": 5
}
